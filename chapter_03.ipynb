{
 "cells": [
  {
   "cell_type": "markdown",
   "id": "twenty-huntington",
   "metadata": {},
   "source": [
    "# Chapter 3 숫자\n",
    "---\n",
    "\n",
    "## 3.1 불리언\n",
    "0이 아닌 값은 __True__로 간주한다."
   ]
  },
  {
   "cell_type": "code",
   "execution_count": 5,
   "id": "suffering-capitol",
   "metadata": {},
   "outputs": [
    {
     "name": "stdout",
     "output_type": "stream",
     "text": [
      "bool(True):  True\n",
      "bool(1):  True\n",
      "bool(45):  True\n",
      "bool(-45):  True\n"
     ]
    }
   ],
   "source": [
    "print(\"bool(True): \", bool(True))\n",
    "print(\"bool(1): \", bool(1))\n",
    "print(\"bool(45): \", bool(45))\n",
    "print(\"bool(-45): \", bool(-45))"
   ]
  },
  {
   "cell_type": "markdown",
   "id": "tight-currency",
   "metadata": {},
   "source": [
    "0인 값은 __False__로 간주한다."
   ]
  },
  {
   "cell_type": "code",
   "execution_count": 7,
   "id": "short-transcript",
   "metadata": {},
   "outputs": [
    {
     "name": "stdout",
     "output_type": "stream",
     "text": [
      "bool(False):  False\n",
      "bool(0):  False\n",
      "bool(0.0):  False\n"
     ]
    }
   ],
   "source": [
    "print(\"bool(False): \", bool(False))\n",
    "print(\"bool(0): \", bool(0))\n",
    "print(\"bool(0.0): \", bool(0.0))"
   ]
  },
  {
   "cell_type": "markdown",
   "id": "about-savannah",
   "metadata": {},
   "source": [
    "## 3.2 정수\n",
    "정수는 모두 숫자로 이루어져 있따. 분수나 소수점이 없다. 정수 앞에 부호가 올 수 있다. 그리고 일반적인 10진수 외 다른 진수로 숫자를 표현할 수도 있다."
   ]
  },
  {
   "cell_type": "markdown",
   "id": "neutral-balloon",
   "metadata": {},
   "source": [
    "### 3.2.1  리터럴 정수\n",
    "연속된 숫자는 리터럴 정수로 간주하나, 0을 제일 앞에 넣을 수는 없다."
   ]
  },
  {
   "cell_type": "code",
   "execution_count": 9,
   "id": "perfect-alabama",
   "metadata": {},
   "outputs": [
    {
     "name": "stdout",
     "output_type": "stream",
     "text": [
      "5:  5\n",
      "0:  0\n"
     ]
    }
   ],
   "source": [
    "print(\"5: \", 5)\n",
    "print(\"0: \", 0)"
   ]
  },
  {
   "cell_type": "code",
   "execution_count": 10,
   "id": "major-james",
   "metadata": {},
   "outputs": [
    {
     "ename": "SyntaxError",
     "evalue": "leading zeros in decimal integer literals are not permitted; use an 0o prefix for octal integers (<ipython-input-10-d670db22df95>, line 1)",
     "output_type": "error",
     "traceback": [
      "\u001b[1;36m  File \u001b[1;32m\"<ipython-input-10-d670db22df95>\"\u001b[1;36m, line \u001b[1;32m1\u001b[0m\n\u001b[1;33m    print(\"05: \", 05)\u001b[0m\n\u001b[1;37m                   ^\u001b[0m\n\u001b[1;31mSyntaxError\u001b[0m\u001b[1;31m:\u001b[0m leading zeros in decimal integer literals are not permitted; use an 0o prefix for octal integers\n"
     ]
    }
   ],
   "source": [
    "print(\"05: \", 05)"
   ]
  },
  {
   "cell_type": "markdown",
   "id": "significant-hands",
   "metadata": {},
   "source": [
    "양수나 음수를 표현할 때는 숫자 앞에 양수(+) 또는 음수(-)를 넣을 수 있으나, 양수(+)는 가독성을 위해 잘 사용하지 않는다. 또한 정수에 쉼표(,)를 사용할 수 없으며, 첫번째 숫자 이후 모든 위치에 언더바를 사용할 수 있다. 그러나 결과를 출력할 때는 언더바를 무시하게 된다."
   ]
  },
  {
   "cell_type": "code",
   "execution_count": 11,
   "id": "registered-material",
   "metadata": {},
   "outputs": [
    {
     "name": "stdout",
     "output_type": "stream",
     "text": [
      "+123:  123\n",
      "-123:  -123\n"
     ]
    }
   ],
   "source": [
    "print(\"+123: \", +123)\n",
    "print(\"-123: \", -123)"
   ]
  },
  {
   "cell_type": "code",
   "execution_count": 12,
   "id": "incoming-distributor",
   "metadata": {},
   "outputs": [
    {
     "name": "stdout",
     "output_type": "stream",
     "text": [
      "1,000,000:  1 0 0\n"
     ]
    }
   ],
   "source": [
    "print(\"1,000,000: \", 1,000,000)"
   ]
  },
  {
   "cell_type": "code",
   "execution_count": 13,
   "id": "honey-intention",
   "metadata": {},
   "outputs": [
    {
     "name": "stdout",
     "output_type": "stream",
     "text": [
      "1_2_3:  123\n"
     ]
    }
   ],
   "source": [
    "print(\"1_2_3: \", 1_2_3)"
   ]
  },
  {
   "cell_type": "markdown",
   "id": "simple-smith",
   "metadata": {},
   "source": [
    "### 3.2.2 정수 연산자"
   ]
  },
  {
   "cell_type": "code",
   "execution_count": 17,
   "id": "artificial-reputation",
   "metadata": {},
   "outputs": [
    {
     "name": "stdout",
     "output_type": "stream",
     "text": [
      "5+9:  14\n",
      "100-7:  93\n",
      "4-10:  -3\n",
      "5+9+3:  17\n",
      "4+3-2-1+6:  10\n",
      "5 + 9   +   3:  17\n",
      "6*7:  42\n",
      "7*6:  42\n",
      "6*7*2*3:  252\n"
     ]
    }
   ],
   "source": [
    "# 더하기(+), 빼기(-), 곱하기(*)\n",
    "# 단, 숫자나 연산자 사이 공백은 무시된다.\n",
    "print(\"5+9: \", 5+9)\n",
    "print(\"100-7: \", 100-7)\n",
    "print(\"4-10: \", 4-7)\n",
    "print(\"5+9+3: \", 5+9+3)\n",
    "print(\"4+3-2-1+6: \", 4+3-2-1+6)\n",
    "print(\"5 + 9   +   3: \", 5 + 9   +   3)\n",
    "print(\"6*7: \", 6*7)\n",
    "print(\"7*6: \", 7*6)\n",
    "print(\"6*7*2*3: \", 6*7*2*3)"
   ]
  },
  {
   "cell_type": "markdown",
   "id": "signed-hormone",
   "metadata": {},
   "source": [
    "나눗셈은 다음 두 가지 방법이 있다.\n",
    "* /는 __부동소수점__을 표함한 결과가 출력된다.\n",
    "* //는 부동소수점을 제외한 결과, 즉 __정수__가 출력된다.\n",
    "\n",
    "다른 언어와는 다르게, 정수를 정수로 나누더라도 /로 나누면 부동소수점 결과가 나온다."
   ]
  },
  {
   "cell_type": "code",
   "execution_count": 19,
   "id": "vital-fluid",
   "metadata": {},
   "outputs": [
    {
     "name": "stdout",
     "output_type": "stream",
     "text": [
      "9/5:  1.8\n",
      "9//5:  1\n"
     ]
    }
   ],
   "source": [
    "print(\"9/5: \", 9/5)\n",
    "print(\"9//5: \", 9//5)"
   ]
  },
  {
   "cell_type": "code",
   "execution_count": 20,
   "id": "incident-chester",
   "metadata": {},
   "outputs": [
    {
     "ename": "ZeroDivisionError",
     "evalue": "division by zero",
     "output_type": "error",
     "traceback": [
      "\u001b[1;31m---------------------------------------------------------------------------\u001b[0m",
      "\u001b[1;31mZeroDivisionError\u001b[0m                         Traceback (most recent call last)",
      "\u001b[1;32m<ipython-input-20-8ccb8e4c4017>\u001b[0m in \u001b[0;36m<module>\u001b[1;34m\u001b[0m\n\u001b[0;32m      1\u001b[0m \u001b[1;31m# 0으로 나누면 예외가 발생한다.\u001b[0m\u001b[1;33m\u001b[0m\u001b[1;33m\u001b[0m\u001b[1;33m\u001b[0m\u001b[0m\n\u001b[1;32m----> 2\u001b[1;33m \u001b[0mprint\u001b[0m\u001b[1;33m(\u001b[0m\u001b[1;34m\"5/0: \"\u001b[0m\u001b[1;33m,\u001b[0m \u001b[1;36m5\u001b[0m\u001b[1;33m/\u001b[0m\u001b[1;36m0\u001b[0m\u001b[1;33m)\u001b[0m\u001b[1;33m\u001b[0m\u001b[1;33m\u001b[0m\u001b[0m\n\u001b[0m",
      "\u001b[1;31mZeroDivisionError\u001b[0m: division by zero"
     ]
    }
   ],
   "source": [
    "# 0으로 나누면 예외가 발생한다.\n",
    "print(\"5/0: \", 5/0)"
   ]
  },
  {
   "cell_type": "code",
   "execution_count": 35,
   "id": "cultural-satisfaction",
   "metadata": {},
   "outputs": [
    {
     "name": "stdout",
     "output_type": "stream",
     "text": [
      "9%5:  4\n"
     ]
    }
   ],
   "source": [
    "# 나머지(%) 연산\n",
    "print(\"9%5: \", 9%5)"
   ]
  },
  {
   "cell_type": "code",
   "execution_count": 39,
   "id": "specified-dealing",
   "metadata": {},
   "outputs": [
    {
     "name": "stdout",
     "output_type": "stream",
     "text": [
      "9//5 (몫): 1\n",
      "9%5 (나머지): 4\n",
      "divmod(9,5): (1, 4)\n"
     ]
    }
   ],
   "source": [
    "# 소수점을 제외한 몫과 나머지를 동시에 얻는 방법\n",
    "print(\"9//5 (몫):\", 9//5)\n",
    "print(\"9%5 (나머지):\", 9%5)\n",
    "print(\"divmod(9,5):\", divmod(9,5))"
   ]
  },
  {
   "cell_type": "code",
   "execution_count": 40,
   "id": "equivalent-frost",
   "metadata": {},
   "outputs": [
    {
     "name": "stdout",
     "output_type": "stream",
     "text": [
      "2**3:  8\n",
      "2.0**3:  8.0\n",
      "2**3.0:  8.0\n",
      "0**3:  0\n"
     ]
    }
   ],
   "source": [
    "# 거듭제곱(**)\n",
    "# 정수와 부동소수점을 사용할 수 있다.\n",
    "print(\"2**3: \", 2**3)\n",
    "print(\"2.0**3: \", 2.0**3)\n",
    "print(\"2**3.0: \", 2**3.0)\n",
    "print(\"0**3: \", 0**3)"
   ]
  },
  {
   "cell_type": "markdown",
   "id": "welcome-assurance",
   "metadata": {},
   "source": [
    "### 3.2.3 정수와 변수"
   ]
  },
  {
   "cell_type": "code",
   "execution_count": 26,
   "id": "silver-foundation",
   "metadata": {},
   "outputs": [
    {
     "name": "stdout",
     "output_type": "stream",
     "text": [
      "a:  95\n"
     ]
    }
   ],
   "source": [
    "a = 95\n",
    "print(\"a: \", a)"
   ]
  },
  {
   "cell_type": "code",
   "execution_count": 27,
   "id": "further-thirty",
   "metadata": {},
   "outputs": [
    {
     "name": "stdout",
     "output_type": "stream",
     "text": [
      "a-3:  92\n",
      "a: 95\n",
      "a=a-3:  92\n",
      "a:  92\n"
     ]
    }
   ],
   "source": [
    "print(\"a-3: \", a-3)\n",
    "print(\"a:\", a)\n",
    "\n",
    "a = a - 3\n",
    "print(\"a=a-3: \", a)\n",
    "print(\"a: \", a)"
   ]
  },
  {
   "cell_type": "code",
   "execution_count": 28,
   "id": "western-energy",
   "metadata": {},
   "outputs": [
    {
     "name": "stdout",
     "output_type": "stream",
     "text": [
      "a:  92\n"
     ]
    }
   ],
   "source": [
    "a = 95\n",
    "temp = a - 3\n",
    "a = temp\n",
    "print(\"a: \", a)"
   ]
  },
  {
   "cell_type": "code",
   "execution_count": 33,
   "id": "czech-needle",
   "metadata": {},
   "outputs": [
    {
     "name": "stdout",
     "output_type": "stream",
     "text": [
      "a:  95\n",
      "a-=3:  92\n",
      "a+=8:  100\n",
      "a*=2:  200\n",
      "a/=3:  66.66666666666667\n"
     ]
    }
   ],
   "source": [
    "a = 95\n",
    "print(\"a: \", a)\n",
    "a -= 3\n",
    "print(\"a-=3: \", a)\n",
    "a += 8\n",
    "print(\"a+=8: \", a)\n",
    "a *= 2\n",
    "print(\"a*=2: \", a)\n",
    "a /= 3\n",
    "print(\"a/=3: \", a)"
   ]
  },
  {
   "cell_type": "code",
   "execution_count": 34,
   "id": "confidential-translator",
   "metadata": {},
   "outputs": [
    {
     "name": "stdout",
     "output_type": "stream",
     "text": [
      "a:  95\n",
      "a//=4:  23\n"
     ]
    }
   ],
   "source": [
    "a = 95\n",
    "print(\"a: \", a)\n",
    "a //= 4\n",
    "print(\"a//=4: \", a)"
   ]
  },
  {
   "cell_type": "markdown",
   "id": "color-management",
   "metadata": {},
   "source": [
    "### 3.2.4 연산순서\n",
    "수학과 마찬가지로 연산 우선순위에 따른 연산순서가 정의되어 있지만, 가독성 등을 위해 먼저 수행하고자 하는 계산식에 괄호를 사용한다."
   ]
  },
  {
   "cell_type": "code",
   "execution_count": 42,
   "id": "exterior-catch",
   "metadata": {},
   "outputs": [
    {
     "name": "stdout",
     "output_type": "stream",
     "text": [
      "2 + 3 * 4:  14\n",
      "2 + (3 * 4):  14\n",
      "(2 + 3) * 4:  20\n",
      "-5 ** 2: -25\n",
      "-(5 ** 2): -25\n",
      "(-5) ** 2): 25\n"
     ]
    }
   ],
   "source": [
    "# 2 + 3 * 4\n",
    "print(\"2 + 3 * 4: \", 2 + 3 * 4)\n",
    "print(\"2 + (3 * 4): \", 2 + (3 * 4))\n",
    "print(\"(2 + 3) * 4: \", (2 + 3) * 4)\n",
    "print(\"-5 ** 2:\", -5 ** 2)\n",
    "print(\"-(5 ** 2):\", -(5 ** 2))\n",
    "print(\"(-5) ** 2):\", (-5) ** 2)"
   ]
  },
  {
   "cell_type": "markdown",
   "id": "appointed-blood",
   "metadata": {},
   "source": [
    "### 3.2.5 진수\n",
    "파이썬에서는 일반적으로 사용하는 10진수 외에 세 가지 리터럴 정수를 표현할 수 있다.\n",
    "* __2진수(binary)__: 0b 혹은 0B\n",
    "* __8진수(octal)__: 0o 혹은 0O\n",
    "* __16진수(hex)__: 0x 혹은 0X"
   ]
  },
  {
   "cell_type": "code",
   "execution_count": 44,
   "id": "applicable-webmaster",
   "metadata": {},
   "outputs": [
    {
     "name": "stdout",
     "output_type": "stream",
     "text": [
      "(10진수) 10:  10\n",
      "(2진수) 0b10:  2\n",
      "(8진수) 0o10:  8\n",
      "(16진수) 0x10:  16\n"
     ]
    }
   ],
   "source": [
    "# 각 진수를 10진수로 표현\n",
    "print(\"(10진수) 10: \", 10)\n",
    "print(\"(2진수) 0b10: \", 0b10)\n",
    "print(\"(8진수) 0o10: \", 0o10)\n",
    "print(\"(16진수) 0x10: \", 0x10)"
   ]
  },
  {
   "cell_type": "code",
   "execution_count": 45,
   "id": "designed-painting",
   "metadata": {},
   "outputs": [
    {
     "name": "stdout",
     "output_type": "stream",
     "text": [
      "(10진수) value:  65\n",
      "(2진수) value:  0b1000001\n",
      "(8진수) value:  0o101\n",
      "(16진수) value:  0x41\n"
     ]
    }
   ],
   "source": [
    "# 10진수를 다른 진수로 표현\n",
    "value = 65\n",
    "print(\"(10진수) value: \", value)\n",
    "print(\"(2진수) value: \", bin(value))\n",
    "print(\"(8진수) value: \", oct(value))\n",
    "print(\"(16진수) value: \", hex(value))"
   ]
  },
  {
   "cell_type": "code",
   "execution_count": 47,
   "id": "vulnerable-polls",
   "metadata": {},
   "outputs": [
    {
     "name": "stdout",
     "output_type": "stream",
     "text": [
      "chr(65):  A\n",
      "ord('A'):  65\n"
     ]
    }
   ],
   "source": [
    "# chr() 함수는 정수를 단일 문자열로, ord() 함수는 단일 문자열을 정수로 반환\n",
    "print(\"chr(65): \", chr(65))\n",
    "print(\"ord('A'): \", ord('A'))"
   ]
  },
  {
   "cell_type": "markdown",
   "id": "tested-desktop",
   "metadata": {},
   "source": [
    "### 3.2.6 타입 변환\n",
    "다른 데이터 타입을 정수 타입으로 변환하려면 int() 함수를, True와 False 값으로 변환하려면 bool()함수를 사용할 수 있다."
   ]
  },
  {
   "cell_type": "code",
   "execution_count": 48,
   "id": "powered-latitude",
   "metadata": {},
   "outputs": [
    {
     "name": "stdout",
     "output_type": "stream",
     "text": [
      "int(True):  1\n",
      "int(False):  0\n"
     ]
    }
   ],
   "source": [
    "# boolean 값을 정수형 값으로 변환\n",
    "print(\"int(True): \", int(True))\n",
    "print(\"int(False): \", int(False))"
   ]
  },
  {
   "cell_type": "code",
   "execution_count": 49,
   "id": "latin-detroit",
   "metadata": {},
   "outputs": [
    {
     "name": "stdout",
     "output_type": "stream",
     "text": [
      "bool(1):  True\n",
      "bool(0):  False\n"
     ]
    }
   ],
   "source": [
    "# 정수형 값을 boolean 값으로 변환\n",
    "print(\"bool(1): \", bool(1))\n",
    "print(\"bool(0): \", bool(0))"
   ]
  },
  {
   "cell_type": "code",
   "execution_count": 50,
   "id": "rapid-projection",
   "metadata": {},
   "outputs": [
    {
     "name": "stdout",
     "output_type": "stream",
     "text": [
      "int(98.6):  98\n",
      "int(1.0e4):  10000\n"
     ]
    }
   ],
   "source": [
    "# 부동소수점 숫자를 정수형 값으로 변환\n",
    "print(\"int(98.6): \", int(98.6))\n",
    "print(\"int(1.0e4): \", int(1.0e4))"
   ]
  },
  {
   "cell_type": "code",
   "execution_count": 51,
   "id": "administrative-peace",
   "metadata": {},
   "outputs": [
    {
     "name": "stdout",
     "output_type": "stream",
     "text": [
      "bool(1.0):  True\n",
      "bool(0.0):  False\n"
     ]
    }
   ],
   "source": [
    "# 부동소수점 숫자를 boolean 값으로 변환\n",
    "print(\"bool(1.0): \", bool(1.0))\n",
    "print(\"bool(0.0): \", bool(0.0))"
   ]
  },
  {
   "cell_type": "code",
   "execution_count": 52,
   "id": "equal-effort",
   "metadata": {},
   "outputs": [
    {
     "name": "stdout",
     "output_type": "stream",
     "text": [
      "int('99'):  99\n",
      "int('-23'):  -23\n",
      "int('+12'):  12\n",
      "int('1_000_000'):  1000000\n"
     ]
    }
   ],
   "source": [
    "# 숫자 구분 기호(_), 덧셈/뺄셈 기호, 숫자로 이루어진 텍스트 문자열을 정수로 변환\n",
    "print(\"int('99'): \", int('99'))\n",
    "print(\"int('-23'): \", int('-23'))\n",
    "print(\"int('+12'): \", int('+12'))\n",
    "print(\"int('1_000_000'): \", int('1_000_000'))"
   ]
  },
  {
   "cell_type": "code",
   "execution_count": 53,
   "id": "elementary-dating",
   "metadata": {},
   "outputs": [
    {
     "ename": "ValueError",
     "evalue": "invalid literal for int() with base 10: '99 bottles of beer on the wall'",
     "output_type": "error",
     "traceback": [
      "\u001b[1;31m---------------------------------------------------------------------------\u001b[0m",
      "\u001b[1;31mValueError\u001b[0m                                Traceback (most recent call last)",
      "\u001b[1;32m<ipython-input-53-5673d88b81b1>\u001b[0m in \u001b[0;36m<module>\u001b[1;34m\u001b[0m\n\u001b[0;32m      1\u001b[0m \u001b[1;31m# 숫자가 아닌 다른 뭔가를 변환하면 예외가 발생\u001b[0m\u001b[1;33m\u001b[0m\u001b[1;33m\u001b[0m\u001b[1;33m\u001b[0m\u001b[0m\n\u001b[1;32m----> 2\u001b[1;33m \u001b[0mprint\u001b[0m\u001b[1;33m(\u001b[0m\u001b[1;34m\"int('99 bottles of beer on the wall')\"\u001b[0m\u001b[1;33m,\u001b[0m \u001b[0mint\u001b[0m\u001b[1;33m(\u001b[0m\u001b[1;34m'99 bottles of beer on the wall'\u001b[0m\u001b[1;33m)\u001b[0m\u001b[1;33m)\u001b[0m\u001b[1;33m\u001b[0m\u001b[1;33m\u001b[0m\u001b[0m\n\u001b[0m",
      "\u001b[1;31mValueError\u001b[0m: invalid literal for int() with base 10: '99 bottles of beer on the wall'"
     ]
    }
   ],
   "source": [
    "# 숫자가 아닌 다른 뭔가를 변환하면 예외가 발생\n",
    "print(\"int('99 bottles of beer on the wall')\", int('99 bottles of beer on the wall'))"
   ]
  },
  {
   "cell_type": "code",
   "execution_count": 54,
   "id": "korean-addiction",
   "metadata": {},
   "outputs": [
    {
     "ename": "ValueError",
     "evalue": "invalid literal for int() with base 10: '98.6'",
     "output_type": "error",
     "traceback": [
      "\u001b[1;31m---------------------------------------------------------------------------\u001b[0m",
      "\u001b[1;31mValueError\u001b[0m                                Traceback (most recent call last)",
      "\u001b[1;32m<ipython-input-54-88b42601fb86>\u001b[0m in \u001b[0;36m<module>\u001b[1;34m\u001b[0m\n\u001b[0;32m      1\u001b[0m \u001b[1;31m# 부동소수점 또는 숫자로 이루어진 문자열을 정수로 변환하려 하면 예외가 발생\u001b[0m\u001b[1;33m\u001b[0m\u001b[1;33m\u001b[0m\u001b[1;33m\u001b[0m\u001b[0m\n\u001b[1;32m----> 2\u001b[1;33m \u001b[0mprint\u001b[0m\u001b[1;33m(\u001b[0m\u001b[1;34m\"int('98.6'): \"\u001b[0m\u001b[1;33m,\u001b[0m \u001b[0mint\u001b[0m\u001b[1;33m(\u001b[0m\u001b[1;34m'98.6'\u001b[0m\u001b[1;33m)\u001b[0m\u001b[1;33m)\u001b[0m\u001b[1;33m\u001b[0m\u001b[1;33m\u001b[0m\u001b[0m\n\u001b[0m",
      "\u001b[1;31mValueError\u001b[0m: invalid literal for int() with base 10: '98.6'"
     ]
    }
   ],
   "source": [
    "# 부동소수점 또는 숫자로 이루어진 문자열을 정수로 변환하려 하면 예외가 발생\n",
    "print(\"int('98.6'): \", int('98.6'))"
   ]
  },
  {
   "cell_type": "code",
   "execution_count": 55,
   "id": "first-atmosphere",
   "metadata": {},
   "outputs": [
    {
     "name": "stdout",
     "output_type": "stream",
     "text": [
      "4 + 7.0: 11.0\n",
      "True + 2:  3\n",
      "False + 5.0:  5.0\n"
     ]
    }
   ],
   "source": [
    "# 숫자 타입을 섞어서 사용하면 자동으로 타입 변환을 한다.\n",
    "print(\"4 + 7.0:\", 4+7.0)\n",
    "print(\"True + 2: \", True+2)\n",
    "print(\"False + 5.0: \", False+5.0)"
   ]
  },
  {
   "cell_type": "markdown",
   "id": "simplified-institute",
   "metadata": {},
   "source": [
    "### 3.2.7 int의 크기\n",
    "파이썬2에서는 CPU에 따라 32비트나 64비트로 제한되었고, 더 큰 수를 저장하기 위해서는 long이라는 타입을 사용해야 했었다.\n",
    "그러나, 파이썬3에서는 long이 사라지고 int의 크기가 유연해져 64비트 이상의 크기도 지원된다."
   ]
  },
  {
   "cell_type": "markdown",
   "id": "cooperative-blend",
   "metadata": {},
   "source": [
    "## 3.3 부동소수점 숫자\n",
    "정수는 숫자만으로 구성되어 있지만, __부동소수점 숫자__는 소수점이 있다."
   ]
  },
  {
   "cell_type": "code",
   "execution_count": 56,
   "id": "beneficial-turkish",
   "metadata": {},
   "outputs": [
    {
     "name": "stdout",
     "output_type": "stream",
     "text": [
      "5.:  5.0\n",
      "5.0:  5.0\n",
      "05.0:  5.0\n"
     ]
    }
   ],
   "source": [
    "print(\"5.: \", 5.)\n",
    "print(\"5.0: \", 5.0)\n",
    "print(\"05.0: \", 05.0)"
   ]
  },
  {
   "cell_type": "code",
   "execution_count": 57,
   "id": "developed-london",
   "metadata": {},
   "outputs": [
    {
     "name": "stdout",
     "output_type": "stream",
     "text": [
      "5e0:  5.0\n",
      "5e1:  50.0\n",
      "5.0e1:  50.0\n",
      "5.0 * (10 ** 1):  50.0\n"
     ]
    }
   ],
   "source": [
    "# 문자 e와 정수인 지수를 포함할 수 있다.\n",
    "print(\"5e0: \", 5e0)\n",
    "print(\"5e1: \", 5e1)\n",
    "print(\"5.0e1: \", 5.0e1)\n",
    "print(\"5.0 * (10 ** 1): \", 5.0 * (10 ** 1))"
   ]
  },
  {
   "cell_type": "code",
   "execution_count": 61,
   "id": "hairy-growing",
   "metadata": {},
   "outputs": [
    {
     "name": "stdout",
     "output_type": "stream",
     "text": [
      "1_000_000.0:  1000000.0\n",
      "1.0_0_1:  1.001\n"
     ]
    }
   ],
   "source": [
    "# 명확성을 위해 언더바(_)를 사용해서 숫자를 구분할 수 있다.\n",
    "print(\"1_000_000.0: \", 1_000_000.0)\n",
    "print(\"1.0_0_1: \", 1.0_0_1)"
   ]
  },
  {
   "cell_type": "code",
   "execution_count": 62,
   "id": "streaming-minority",
   "metadata": {},
   "outputs": [
    {
     "name": "stdout",
     "output_type": "stream",
     "text": [
      "float(True):  1.0\n",
      "float(False):  0.0\n",
      "float(98):  98.0\n",
      "float('98.6'):  98.6\n",
      "float('-1.5'):  -1.5\n",
      "float('1.0e4'):  10000.0\n"
     ]
    }
   ],
   "source": [
    "# 부동소수점 타입으로의 변환\n",
    "print(\"float(True): \", float(True))\n",
    "print(\"float(False): \", float(False))\n",
    "print(\"float(98): \", float(98))\n",
    "print(\"float('98.6'): \", float('98.6'))\n",
    "print(\"float('-1.5'): \", float('-1.5'))\n",
    "print(\"float('1.0e4'): \", float('1.0e4'))"
   ]
  },
  {
   "cell_type": "code",
   "execution_count": 63,
   "id": "cultural-shanghai",
   "metadata": {},
   "outputs": [
    {
     "name": "stdout",
     "output_type": "stream",
     "text": [
      "False + 0:  0\n",
      "False + 0.:  0.0\n",
      "True + 0:  1\n",
      "True + 0,:  1.0\n"
     ]
    }
   ],
   "source": [
    "# boolean 타입도 정수 또는 부동소수점 타입으로 변환\n",
    "print(\"False + 0: \", False + 0)\n",
    "print(\"False + 0.: \", False + 0.)\n",
    "print(\"True + 0: \", True + 0)\n",
    "print(\"True + 0,: \", True + 0.)"
   ]
  },
  {
   "cell_type": "markdown",
   "id": "dramatic-conspiracy",
   "metadata": {},
   "source": [
    "## 3.4 수학함수\n",
    "## 3.5 다음 장에서는"
   ]
  },
  {
   "cell_type": "markdown",
   "id": "confirmed-threat",
   "metadata": {},
   "source": [
    "## 3.6 연습문제\n",
    "\n",
    "* 1시간은 몇 초인가?\n",
    "* 계산한 결과를 seconds_per_hour 변수에 저장해보자."
   ]
  },
  {
   "cell_type": "code",
   "execution_count": 67,
   "id": "mathematical-cartoon",
   "metadata": {},
   "outputs": [
    {
     "name": "stdout",
     "output_type": "stream",
     "text": [
      "seconds per hour:  3600\n"
     ]
    }
   ],
   "source": [
    "hour = 1\n",
    "minutes_per_hour = hour * 60\n",
    "seconds_per_hour = minutes_per_hour * 60\n",
    "print(\"seconds per hour: \", seconds_per_hour)"
   ]
  },
  {
   "cell_type": "markdown",
   "id": "similar-floating",
   "metadata": {},
   "source": [
    "* 1일은 몇 초인가? seconds_per_hour를 이용해 계산해보자.\n",
    "* 계산한 결과를 secons_per_day 변수에 저장해보자."
   ]
  },
  {
   "cell_type": "code",
   "execution_count": 69,
   "id": "prompt-emerald",
   "metadata": {},
   "outputs": [
    {
     "name": "stdout",
     "output_type": "stream",
     "text": [
      "seconds per day:  86400\n"
     ]
    }
   ],
   "source": [
    "hours_per_day = hour * 24\n",
    "minutes_per_day = hours_per_day * 60\n",
    "seconds_per_day = minutes_per_day * 60\n",
    "print(\"seconds per day: \", seconds_per_day)"
   ]
  },
  {
   "cell_type": "markdown",
   "id": "wrapped-palestinian",
   "metadata": {},
   "source": [
    "* 부동소수점 나눗셈(/)을 사용해서 seconds_per_day를 seconds_per_hour로 나누어보자.\n",
    "* 정수 나눗셈(//)을 사용해서 seconds_per_day를 seconds_per_hour로 나누어보자."
   ]
  },
  {
   "cell_type": "code",
   "execution_count": 70,
   "id": "guilty-renewal",
   "metadata": {},
   "outputs": [
    {
     "name": "stdout",
     "output_type": "stream",
     "text": [
      "seconds_per_day / seconds_per_hour:  24.0\n",
      "seconds_per_day // seconds_per_hour:  24\n"
     ]
    }
   ],
   "source": [
    "print(\"seconds_per_day / seconds_per_hour: \", seconds_per_day / seconds_per_hour)\n",
    "print(\"seconds_per_day // seconds_per_hour: \", seconds_per_day // seconds_per_hour)"
   ]
  },
  {
   "cell_type": "code",
   "execution_count": null,
   "id": "constitutional-bloom",
   "metadata": {},
   "outputs": [],
   "source": []
  }
 ],
 "metadata": {
  "kernelspec": {
   "display_name": "Python 3",
   "language": "python",
   "name": "python3"
  },
  "language_info": {
   "codemirror_mode": {
    "name": "ipython",
    "version": 3
   },
   "file_extension": ".py",
   "mimetype": "text/x-python",
   "name": "python",
   "nbconvert_exporter": "python",
   "pygments_lexer": "ipython3",
   "version": "3.9.1"
  }
 },
 "nbformat": 4,
 "nbformat_minor": 5
}
