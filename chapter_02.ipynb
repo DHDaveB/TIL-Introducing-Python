{
 "cells": [
  {
   "cell_type": "markdown",
   "id": "wired-number",
   "metadata": {},
   "source": [
    "# Chapter 2 데이터: 타입, 값, 변수, 이름\n",
    "---\n",
    "\n",
    "## 2.1 파이썬 데이터는 객체다\n",
    "파이썬에서 객체는 최소한 다음을 포함하는 데이터 덩어리다.\n",
    "* __타입__ 정의 \n",
    "* 다른 객체와 구별하기 위한 __고유ID__\n",
    "* 타입과 연관된 __값__\n",
    "* 객체의 사용 빈도를 추적하는 __참조 횟수__"
   ]
  },
  {
   "cell_type": "markdown",
   "id": "contrary-italian",
   "metadata": {},
   "source": [
    "## 2.2 타입\n",
    "## 2.3 가변성\n",
    "## 2.4 리터럴 값"
   ]
  },
  {
   "cell_type": "markdown",
   "id": "chief-respondent",
   "metadata": {},
   "source": [
    "## 2.5 변수\n",
    "파이썬 변수 이름에는 몇 가지 규칙이 있다.\n",
    "* 다음 문자만 사용할 수 있다.\n",
    " * 소문자 (a~z)\n",
    " * 대문자 (A~Z)\n",
    " * 숫자 (0~9)\n",
    " * 언더바 (_)\n",
    "* __대소 문자__를 구분한다. thing, Thing, THING은 서로 다른 이름이다.\n",
    "* 숫자가 아닌 문자나 언더바로 시작한다.\n",
    "* 언더바로 시작하는 이름은 특별하게 취급한다. (9장 참조)\n",
    "* 파이썬 __예약어(키워드)__는 사용할 수 없다.\n",
    "\n",
    "파이썬 예약어는 다음의 구문으로 확인할 수 있다.\n"
   ]
  },
  {
   "cell_type": "code",
   "execution_count": 1,
   "id": "available-prize",
   "metadata": {},
   "outputs": [
    {
     "data": {
      "text/plain": [
       "['False',\n",
       " 'None',\n",
       " 'True',\n",
       " '__peg_parser__',\n",
       " 'and',\n",
       " 'as',\n",
       " 'assert',\n",
       " 'async',\n",
       " 'await',\n",
       " 'break',\n",
       " 'class',\n",
       " 'continue',\n",
       " 'def',\n",
       " 'del',\n",
       " 'elif',\n",
       " 'else',\n",
       " 'except',\n",
       " 'finally',\n",
       " 'for',\n",
       " 'from',\n",
       " 'global',\n",
       " 'if',\n",
       " 'import',\n",
       " 'in',\n",
       " 'is',\n",
       " 'lambda',\n",
       " 'nonlocal',\n",
       " 'not',\n",
       " 'or',\n",
       " 'pass',\n",
       " 'raise',\n",
       " 'return',\n",
       " 'try',\n",
       " 'while',\n",
       " 'with',\n",
       " 'yield']"
      ]
     },
     "execution_count": 1,
     "metadata": {},
     "output_type": "execute_result"
    }
   ],
   "source": [
    "import keyword\n",
    "keyword.kwlist"
   ]
  },
  {
   "cell_type": "markdown",
   "id": "common-calgary",
   "metadata": {},
   "source": [
    "## 2.6 할당\n",
    "파이썬은 '='를 사용하여 변수에 값을 할당한다.\n",
    "수학과 프로그램의 큰 차이점은 다음과 같다. 수학에서 '='는 양변이 같음(equality)을 의미하지만, 프로그램에서는 할당(assignment)을 의미한다. 즉, __오른쪽 값을 왼쪽 변수에 할당한다__는 의미이다."
   ]
  },
  {
   "cell_type": "markdown",
   "id": "nuclear-finland",
   "metadata": {},
   "source": [
    "## 2.7 변수는 장소가 아니라 이름이다.\n",
    "__변수는 단지 이름__이다. 이것은 컴퓨터 언어마다 다르며, 특히 티스트와 같이 __가변__ 객체를 얻을 때 파이썬에서 알아야 할 핵심 내용이다. 할당은 __값을 복사하지 않는다.__ 단지 데이터를 포함하는 객체에 __이름을 붙인다.__ 이름은 객체 자체가 아닌 객체에 대한 __참조__다. 컴퓨터 메모리 어딘가에 있는 객체 상자에 문자열이 부착된 이름을 시각화한다."
   ]
  },
  {
   "cell_type": "markdown",
   "id": "illegal-father",
   "metadata": {},
   "source": [
    "## 2.8 여러 이름 할당하기\n",
    "두개 이상의 변수 이름에 동시에 값을 지정할 수 있다."
   ]
  },
  {
   "cell_type": "code",
   "execution_count": 9,
   "id": "exceptional-lyric",
   "metadata": {},
   "outputs": [
    {
     "name": "stdout",
     "output_type": "stream",
     "text": [
      "two =  2\n",
      "deux =  2\n",
      "zwei =  2\n"
     ]
    }
   ],
   "source": [
    "two = deux = zwei = 2\n",
    "print('two = ', two)\n",
    "print('deux = ', deux)\n",
    "print('zwei = ', zwei)"
   ]
  },
  {
   "cell_type": "markdown",
   "id": "hairy-surname",
   "metadata": {},
   "source": [
    "## 2.9 이름 재할당\n",
    "이름은 객체를 가리키기 때문에 이름에 지정된 값을 변경하면 이름이 새 객체를 가리킨다. 이전 객체의 참조 수가 감소하고 새 객체의 수가 증가한다."
   ]
  },
  {
   "cell_type": "markdown",
   "id": "miniature-intranet",
   "metadata": {},
   "source": [
    "## 2.10 복사\n",
    "기존 변수 a를 새 변수 b에 할당하면, 변수 b는 변수 a와 같은 객체를 가리키게 된다. 정수와 같이 객체가 불변한 경우 값을 변경할 수 없으므로, 두 이름 모두 기본적으로 읽기전용(read-only)이 된다."
   ]
  },
  {
   "cell_type": "code",
   "execution_count": 10,
   "id": "hired-bidder",
   "metadata": {},
   "outputs": [
    {
     "name": "stdout",
     "output_type": "stream",
     "text": [
      "x =  5\n",
      "y =  5\n"
     ]
    }
   ],
   "source": [
    "x = 5\n",
    "y = x\n",
    "print('x = ', x)\n",
    "print('y = ', y)"
   ]
  },
  {
   "cell_type": "code",
   "execution_count": 11,
   "id": "deadly-absence",
   "metadata": {},
   "outputs": [
    {
     "name": "stdout",
     "output_type": "stream",
     "text": [
      "x =  29\n",
      "y =  5\n"
     ]
    }
   ],
   "source": [
    "x = 29\n",
    "print('x = ', x)\n",
    "print('y = ', y)"
   ]
  },
  {
   "cell_type": "markdown",
   "id": "round-certificate",
   "metadata": {},
   "source": [
    "그러나 두 이름이 모두 __가변__ 객체를 가리킨다면 두 이름 중 하나를 통해 객체 값을 변경할 수 있으며, 두 이름을 사용할 때 변경된 값이 사용된다."
   ]
  },
  {
   "cell_type": "code",
   "execution_count": 13,
   "id": "experimental-ethernet",
   "metadata": {},
   "outputs": [
    {
     "name": "stdout",
     "output_type": "stream",
     "text": [
      "a =  [2, 4, 6]\n",
      "b =  [2, 4, 6]\n"
     ]
    }
   ],
   "source": [
    "a = [2, 4, 6]\n",
    "b = a\n",
    "print('a = ', a)\n",
    "print('b = ', b)"
   ]
  },
  {
   "cell_type": "code",
   "execution_count": 14,
   "id": "foster-information",
   "metadata": {},
   "outputs": [
    {
     "name": "stdout",
     "output_type": "stream",
     "text": [
      "a =  [99, 4, 6]\n",
      "b =  [99, 4, 6]\n"
     ]
    }
   ],
   "source": [
    "a[0] = 99\n",
    "print('a = ', a)\n",
    "print('b = ', b)"
   ]
  },
  {
   "cell_type": "markdown",
   "id": "royal-design",
   "metadata": {},
   "source": [
    "## 2.11 좋은 변수 이름\n",
    "변수 이름은 한번에 추적할 수 있는 간결함과 명확성의 균형을 유지해 사용해야 한다.\n",
    "\n",
    "## 2.12 다음 장에서는"
   ]
  },
  {
   "cell_type": "markdown",
   "id": "judicial-cherry",
   "metadata": {},
   "source": [
    "## 2.13 연습문제\n",
    "* 정수 99를 변수 prince에 할당하고 출력해보자."
   ]
  },
  {
   "cell_type": "code",
   "execution_count": 15,
   "id": "referenced-antarctica",
   "metadata": {},
   "outputs": [
    {
     "name": "stdout",
     "output_type": "stream",
     "text": [
      "prince =  99\n"
     ]
    }
   ],
   "source": [
    "prince = 99\n",
    "print('prince = ', prince)"
   ]
  },
  {
   "cell_type": "markdown",
   "id": "joined-hayes",
   "metadata": {},
   "source": [
    "* 값 5는 어떤 타입인가?"
   ]
  },
  {
   "cell_type": "code",
   "execution_count": 16,
   "id": "controlled-voice",
   "metadata": {},
   "outputs": [
    {
     "data": {
      "text/plain": [
       "int"
      ]
     },
     "execution_count": 16,
     "metadata": {},
     "output_type": "execute_result"
    }
   ],
   "source": [
    "type(5)"
   ]
  },
  {
   "cell_type": "markdown",
   "id": "presidential-length",
   "metadata": {},
   "source": [
    "* 값 2.0은 어떤 타입인가?"
   ]
  },
  {
   "cell_type": "code",
   "execution_count": 17,
   "id": "likely-parts",
   "metadata": {},
   "outputs": [
    {
     "data": {
      "text/plain": [
       "float"
      ]
     },
     "execution_count": 17,
     "metadata": {},
     "output_type": "execute_result"
    }
   ],
   "source": [
    "type(2.0)"
   ]
  },
  {
   "cell_type": "markdown",
   "id": "bound-actor",
   "metadata": {},
   "source": [
    "* 표현식 5 + 2.0은 어떤 타입인가?"
   ]
  },
  {
   "cell_type": "code",
   "execution_count": 18,
   "id": "incorrect-parallel",
   "metadata": {},
   "outputs": [
    {
     "data": {
      "text/plain": [
       "float"
      ]
     },
     "execution_count": 18,
     "metadata": {},
     "output_type": "execute_result"
    }
   ],
   "source": [
    "type(5+2.0)"
   ]
  },
  {
   "cell_type": "code",
   "execution_count": null,
   "id": "fixed-writing",
   "metadata": {},
   "outputs": [],
   "source": []
  }
 ],
 "metadata": {
  "kernelspec": {
   "display_name": "Python 3",
   "language": "python",
   "name": "python3"
  },
  "language_info": {
   "codemirror_mode": {
    "name": "ipython",
    "version": 3
   },
   "file_extension": ".py",
   "mimetype": "text/x-python",
   "name": "python",
   "nbconvert_exporter": "python",
   "pygments_lexer": "ipython3",
   "version": "3.9.1"
  }
 },
 "nbformat": 4,
 "nbformat_minor": 5
}
